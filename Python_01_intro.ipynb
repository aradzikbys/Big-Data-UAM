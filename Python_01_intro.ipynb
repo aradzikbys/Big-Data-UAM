{
 "cells": [
  {
   "cell_type": "markdown",
   "id": "d2e3e980",
   "metadata": {},
   "source": [
    "<b> BASICS: </b> print function, variables, variable types, strings, operations, booleans."
   ]
  },
  {
   "cell_type": "markdown",
   "id": "5c7d3052",
   "metadata": {},
   "source": [
    "Create `pi` variable with value of 3.14. Create `r` variable with value of 12. Calculate the area of the circle and assign the result to new variable, `area`. "
   ]
  },
  {
   "cell_type": "code",
   "execution_count": 9,
   "id": "ce44d896",
   "metadata": {},
   "outputs": [
    {
     "name": "stdout",
     "output_type": "stream",
     "text": [
      "452.16\n"
     ]
    }
   ],
   "source": [
    "pi = 3.14\n",
    "r = 12\n",
    "area = 3.14 * r ** 2\n",
    "print(area)"
   ]
  },
  {
   "cell_type": "markdown",
   "id": "53b30902",
   "metadata": {},
   "source": [
    "Change the type of variables `a`, `b` and `c` to numeric types (int or float) and calculate their sum.\n",
    "Save the result to the variable `result` and display it on the screen."
   ]
  },
  {
   "cell_type": "code",
   "execution_count": 10,
   "id": "b461dc30",
   "metadata": {},
   "outputs": [],
   "source": [
    "a = \"12\"\n",
    "b = \"35.5\"\n",
    "c = True"
   ]
  },
  {
   "cell_type": "code",
   "execution_count": 12,
   "id": "3c5ef41d",
   "metadata": {},
   "outputs": [
    {
     "name": "stdout",
     "output_type": "stream",
     "text": [
      "48.5\n"
     ]
    }
   ],
   "source": [
    "result = int(a) + float(b) + int(c)\n",
    "print(result)"
   ]
  },
  {
   "cell_type": "markdown",
   "id": "2d79b2bd",
   "metadata": {},
   "source": [
    "Create 2 variables: `firstname` and `surname`, which will contain your first and last name.\n",
    "<br>1) Concatenate these variables so that they are separated by a space and save the result to the fullname variable.\n",
    "<br>2) Use the f-string to display the contents of the fullname variables, so that the contents of the variable are preceded by the words \"My name is \".\n",
    "<br>3) Display the total length of the firstname and surname variables."
   ]
  },
  {
   "cell_type": "code",
   "execution_count": 13,
   "id": "533cb473",
   "metadata": {},
   "outputs": [],
   "source": [
    "firstname = 'Agata'\n",
    "lastname = 'Radzikowska'"
   ]
  },
  {
   "cell_type": "code",
   "execution_count": 19,
   "id": "7d92a3f0",
   "metadata": {},
   "outputs": [
    {
     "name": "stdout",
     "output_type": "stream",
     "text": [
      "Agata Radzikowska\n",
      "My name is Agata Radzikowska.\n",
      "16\n"
     ]
    }
   ],
   "source": [
    "#1\n",
    "fullname = firstname + ' ' + lastname\n",
    "print(fullname)\n",
    "\n",
    "#2\n",
    "print(f'My name is {firstname} {lastname}.')\n",
    "\n",
    "#3\n",
    "print(len(firstname)+len(lastname))"
   ]
  },
  {
   "cell_type": "markdown",
   "id": "473f203b",
   "metadata": {},
   "source": [
    "<b> LISTS </b>"
   ]
  },
  {
   "cell_type": "markdown",
   "id": "39550c09",
   "metadata": {},
   "source": [
    "Below is a list `websites`.\n",
    "<br> 1) What index is 'pinterest.com' under?\n",
    "<br> 2) Replace the value of the fifth item with 'yahoo.com'.\n",
    "<br> 3) Add a new item to the end of the list: 'bing.com'\n",
    "<br> 4) Using indexing, create a sublist consisting of 'facebook.com', 'twitter.com'. Assign the result to the variable `social_networks`.\n",
    "<br> 5) Extend the `websites` list with elements from the `polish_websites` list.\n",
    "<br> 6) How many items are in the `websites` list now?"
   ]
  },
  {
   "cell_type": "code",
   "execution_count": 33,
   "id": "e3b3432b",
   "metadata": {},
   "outputs": [],
   "source": [
    "websites = ['google.com', 'facebook.com', 'twitter.com', 'pinterest.com', 'python.org']\n",
    "polish_websites = ['onet.pl', 'interia.pl', 'wp.pl']"
   ]
  },
  {
   "cell_type": "code",
   "execution_count": 34,
   "id": "2bc86ed5",
   "metadata": {
    "scrolled": true
   },
   "outputs": [
    {
     "data": {
      "text/plain": [
       "3"
      ]
     },
     "execution_count": 34,
     "metadata": {},
     "output_type": "execute_result"
    }
   ],
   "source": [
    "#1\n",
    "websites.index('pinterest.com')"
   ]
  },
  {
   "cell_type": "code",
   "execution_count": 35,
   "id": "24099fdb",
   "metadata": {},
   "outputs": [
    {
     "name": "stdout",
     "output_type": "stream",
     "text": [
      "['google.com', 'facebook.com', 'twitter.com', 'pinterest.com', 'yahoo.com']\n"
     ]
    }
   ],
   "source": [
    "#2\n",
    "websites[4] = 'yahoo.com'\n",
    "print(websites)"
   ]
  },
  {
   "cell_type": "code",
   "execution_count": 36,
   "id": "91e11ffd",
   "metadata": {},
   "outputs": [
    {
     "name": "stdout",
     "output_type": "stream",
     "text": [
      "['google.com', 'facebook.com', 'twitter.com', 'pinterest.com', 'yahoo.com', 'bing.com']\n"
     ]
    }
   ],
   "source": [
    "#3\n",
    "websites.append('bing.com')\n",
    "print(websites)"
   ]
  },
  {
   "cell_type": "code",
   "execution_count": 37,
   "id": "c1ee9a63",
   "metadata": {},
   "outputs": [
    {
     "name": "stdout",
     "output_type": "stream",
     "text": [
      "['facebook.com', 'twitter.com']\n"
     ]
    }
   ],
   "source": [
    "#4\n",
    "social_networks = websites[1:3]\n",
    "print(social_networks)"
   ]
  },
  {
   "cell_type": "code",
   "execution_count": 38,
   "id": "d3e904e4",
   "metadata": {},
   "outputs": [],
   "source": [
    "#5, #6\n",
    "websites.extend(polish_websites)\n",
    "len(websites)"
   ]
  },
  {
   "cell_type": "markdown",
   "id": "984cd899",
   "metadata": {},
   "source": [
    "List `l` containts 2 elements (lists). Create new list (`l_flat`) which contains each element from those two lists."
   ]
  },
  {
   "cell_type": "code",
   "execution_count": 100,
   "id": "ac276b39",
   "metadata": {},
   "outputs": [],
   "source": [
    "l = [[9, 8, 12, 7], [12, 33, 8, 7]]"
   ]
  },
  {
   "cell_type": "code",
   "execution_count": 101,
   "id": "d3340464",
   "metadata": {},
   "outputs": [
    {
     "name": "stdout",
     "output_type": "stream",
     "text": [
      "[9, 8, 12, 7, 12, 33, 8, 7]\n"
     ]
    }
   ],
   "source": [
    "l_flat1 = l[0]+l[1]\n",
    "print(l_flat1)"
   ]
  },
  {
   "cell_type": "markdown",
   "id": "3981cdbd",
   "metadata": {},
   "source": [
    "Using the `numbers` list:\n",
    "<br> 1) Display the second item on the screen.\n",
    "<br> 2) Count how many elements of the list have the value 7 (use the `count` method).\n",
    "<br> 3) How many items does the list contain?\n",
    "<br> 4) How do you check what is the largest value contained in the list?"
   ]
  },
  {
   "cell_type": "code",
   "execution_count": 102,
   "id": "d6b2b9f0",
   "metadata": {},
   "outputs": [],
   "source": [
    "numbers = [1, 8, 6, 6, 6, 7, 2, 0, 3, 0, 2, 3, 7, 0, 7, 2, 0, 3, 9, 4]"
   ]
  },
  {
   "cell_type": "code",
   "execution_count": 103,
   "id": "5dcae820",
   "metadata": {},
   "outputs": [
    {
     "data": {
      "text/plain": [
       "8"
      ]
     },
     "execution_count": 103,
     "metadata": {},
     "output_type": "execute_result"
    }
   ],
   "source": [
    "#1\n",
    "numbers[1]"
   ]
  },
  {
   "cell_type": "code",
   "execution_count": 105,
   "id": "6c14f278",
   "metadata": {},
   "outputs": [
    {
     "data": {
      "text/plain": [
       "3"
      ]
     },
     "execution_count": 105,
     "metadata": {},
     "output_type": "execute_result"
    }
   ],
   "source": [
    "#2\n",
    "numbers.count(7)"
   ]
  },
  {
   "cell_type": "code",
   "execution_count": 106,
   "id": "889d10dc",
   "metadata": {},
   "outputs": [
    {
     "data": {
      "text/plain": [
       "20"
      ]
     },
     "execution_count": 106,
     "metadata": {},
     "output_type": "execute_result"
    }
   ],
   "source": [
    "#3\n",
    "len(numbers)"
   ]
  },
  {
   "cell_type": "code",
   "execution_count": 107,
   "id": "b5757c53",
   "metadata": {
    "scrolled": true
   },
   "outputs": [
    {
     "data": {
      "text/plain": [
       "9"
      ]
     },
     "execution_count": 107,
     "metadata": {},
     "output_type": "execute_result"
    }
   ],
   "source": [
    "#4\n",
    "max(numbers)"
   ]
  },
  {
   "cell_type": "markdown",
   "id": "1fe64992",
   "metadata": {},
   "source": [
    "The iris_setosa list contains information about 4 specimens of the bristle iris:\n",
    "<br> The first index is the length of the flower.\n",
    "<br> The second index is the width of the flower.\n",
    "<br> The third index is the length of the leaf.\n",
    "<br> The fourth index is the width of the leaf.\n",
    "<br><br>\n",
    "1) Calculate the average flower width.\n",
    "<br>2) Add data about a new copy to the list: (5.4, 3.9, 1.7, 0.4)"
   ]
  },
  {
   "cell_type": "code",
   "execution_count": 2,
   "id": "f3ac1f07",
   "metadata": {},
   "outputs": [],
   "source": [
    "iris_setosa  = [\n",
    "    [5.1, 3.5, 1.4, 0.2],\n",
    "    [4.9, 3, 1.4, 0.2],\n",
    "    [4.7, 3.2, 1.3, 0.2],\n",
    "    ]"
   ]
  },
  {
   "cell_type": "code",
   "execution_count": 5,
   "id": "496a1a24",
   "metadata": {},
   "outputs": [
    {
     "name": "stdout",
     "output_type": "stream",
     "text": [
      "15.86\n"
     ]
    }
   ],
   "source": [
    "#1\n",
    "sr_wlk_kwiata = (iris_setosa[0][0] * iris_setosa[0][1] +\n",
    "                 iris_setosa[1][0] * iris_setosa[1][1] +\n",
    "                 iris_setosa[2][0] * iris_setosa[2][1]) / 3\n",
    "\n",
    "print(round(sr_wlk_kwiata,2))"
   ]
  },
  {
   "cell_type": "code",
   "execution_count": 6,
   "id": "4de9ec7d",
   "metadata": {},
   "outputs": [
    {
     "name": "stdout",
     "output_type": "stream",
     "text": [
      "[[5.1, 3.5, 1.4, 0.2], [4.9, 3, 1.4, 0.2], [4.7, 3.2, 1.3, 0.2], [5.4, 3.9, 1.7, 0.4]]\n"
     ]
    }
   ],
   "source": [
    "#2\n",
    "iris_setosa.append([5.4, 3.9, 1.7, 0.4])\n",
    "print(iris_setosa)"
   ]
  },
  {
   "cell_type": "markdown",
   "id": "9ea26e75",
   "metadata": {},
   "source": [
    "<b> DICTIONARIES </b>"
   ]
  },
  {
   "cell_type": "markdown",
   "id": "281eb9c9",
   "metadata": {},
   "source": [
    "Using the following dictionary, which contains information from WikiData about Adam Mickiewicz, complete the following tasks:\n",
    "<br>1) Display A. Mickiewicz's place of birth.\n",
    "<br>2) Calculate how many years A. Mickiewicz lived.\n",
    "<br>3) Add a new `place of death` key with value `Istanbul`.\n",
    "<br>4) Replace the value of the `place of birth` key with `Zaosie`.\n",
    "<br>5) Add a new key `spouse` whose value is the dictionary `cecylia_data`.\n",
    "<br>6) Display the number of list items that are under the `occupation` key.\n",
    "<br>7) Display the name of A. Mickiewicz's wife."
   ]
  },
  {
   "cell_type": "code",
   "execution_count": 42,
   "id": "1808f359",
   "metadata": {},
   "outputs": [],
   "source": [
    "data = {\n",
    "    'name': 'Adam',\n",
    "    'surname': 'Mickiewicz',\n",
    "    'native language': 'polish',\n",
    "    'year of birth': 1798,\n",
    "    'place of birth': 'Zavosse',\n",
    "    'year of death': 1855,\n",
    "    'occupation': ['poet', 'professor', 'playwright']}\n",
    "\n",
    "cecylia_data = {\n",
    "    'name': 'Cecylia',\n",
    "    'surname': 'Szymanowska' }"
   ]
  },
  {
   "cell_type": "code",
   "execution_count": 45,
   "id": "dfdfbc8e",
   "metadata": {},
   "outputs": [
    {
     "name": "stdout",
     "output_type": "stream",
     "text": [
      "Zavosse\n"
     ]
    }
   ],
   "source": [
    "#1\n",
    "print(data['place of birth'])"
   ]
  },
  {
   "cell_type": "code",
   "execution_count": 46,
   "id": "aa5548f4",
   "metadata": {},
   "outputs": [
    {
     "name": "stdout",
     "output_type": "stream",
     "text": [
      "57\n"
     ]
    }
   ],
   "source": [
    "#2\n",
    "print(data['year of death']-data['year of birth'])"
   ]
  },
  {
   "cell_type": "code",
   "execution_count": 52,
   "id": "9c3e6b37",
   "metadata": {},
   "outputs": [
    {
     "name": "stdout",
     "output_type": "stream",
     "text": [
      "Istanbul\n"
     ]
    }
   ],
   "source": [
    "#3\n",
    "data['place of death']='Istanbul'\n",
    "print(data['place of death'])"
   ]
  },
  {
   "cell_type": "code",
   "execution_count": 53,
   "id": "5f2fa6a3",
   "metadata": {},
   "outputs": [
    {
     "name": "stdout",
     "output_type": "stream",
     "text": [
      "Zaosie\n"
     ]
    }
   ],
   "source": [
    "#4\n",
    "data['place of birth'] = 'Zaosie'\n",
    "print(data['place of birth'])"
   ]
  },
  {
   "cell_type": "code",
   "execution_count": 54,
   "id": "c51dea32",
   "metadata": {},
   "outputs": [
    {
     "name": "stdout",
     "output_type": "stream",
     "text": [
      "{'name': 'Cecylia', 'surname': 'Szymanowska'}\n"
     ]
    }
   ],
   "source": [
    "#5\n",
    "data['spouse']=cecylia_data\n",
    "print(data['spouse'])"
   ]
  },
  {
   "cell_type": "code",
   "execution_count": 55,
   "id": "1988c6ec",
   "metadata": {},
   "outputs": [
    {
     "name": "stdout",
     "output_type": "stream",
     "text": [
      "3\n"
     ]
    }
   ],
   "source": [
    "#6\n",
    "print(len(data['occupation']))"
   ]
  },
  {
   "cell_type": "code",
   "execution_count": 56,
   "id": "a07ad1f8",
   "metadata": {},
   "outputs": [
    {
     "name": "stdout",
     "output_type": "stream",
     "text": [
      "Cecylia\n"
     ]
    }
   ],
   "source": [
    "#7\n",
    "print(data['spouse']['name'])"
   ]
  },
  {
   "cell_type": "markdown",
   "id": "7faf4d3d",
   "metadata": {},
   "source": [
    "Create dictionary `warehouse` based on list `fruits`. Append elements of a list to dictionary as keys, assign default value 5 to each key."
   ]
  },
  {
   "cell_type": "code",
   "execution_count": 52,
   "id": "2626b9c7",
   "metadata": {},
   "outputs": [],
   "source": [
    "fruits = ['apple','banana','strawberry','pineapple','orange']\n",
    "warehouse = {}"
   ]
  },
  {
   "cell_type": "code",
   "execution_count": 54,
   "id": "a27e362b",
   "metadata": {},
   "outputs": [],
   "source": [
    "warehouse = {x:5 for x in fruits}"
   ]
  },
  {
   "cell_type": "code",
   "execution_count": 55,
   "id": "afae62c8",
   "metadata": {},
   "outputs": [
    {
     "data": {
      "text/plain": [
       "{'apple': 5, 'banana': 5, 'strawberry': 5, 'pineapple': 5, 'orange': 5}"
      ]
     },
     "execution_count": 55,
     "metadata": {},
     "output_type": "execute_result"
    }
   ],
   "source": [
    "warehouse"
   ]
  },
  {
   "cell_type": "markdown",
   "id": "1cf64354",
   "metadata": {},
   "source": [
    "<b>IF, ELIF, ELSE</b>"
   ]
  },
  {
   "cell_type": "markdown",
   "id": "d0b661af",
   "metadata": {},
   "source": [
    "Check if the text 'aAaAaA' is in the passwords array. Depending on whether it is present or not, display the appropriate message on the screen."
   ]
  },
  {
   "cell_type": "code",
   "execution_count": 61,
   "id": "7348b3a5",
   "metadata": {},
   "outputs": [],
   "source": [
    "haslo = 'aAaAaA'\n",
    "haslo2 = 'aAaAaAaaa'\n",
    "passwords = ['aaAaa', 'aAAAaa', 'aaaaaaA', 'aaaAAAAA', 'aaAAAaa', 'aAaAaA', 'aAaAaAA']"
   ]
  },
  {
   "cell_type": "code",
   "execution_count": 67,
   "id": "4a7c0e41",
   "metadata": {},
   "outputs": [
    {
     "name": "stdout",
     "output_type": "stream",
     "text": [
      "Password aAaAaA is on the list, position #6.\n"
     ]
    }
   ],
   "source": [
    "if haslo in passwords:\n",
    "    print(f'Password {haslo} is on the list, position #{passwords.index(haslo)+1}.')\n",
    "else:\n",
    "    print(f'Password {haslo} is NOT the list.') "
   ]
  },
  {
   "cell_type": "code",
   "execution_count": 69,
   "id": "62625d64",
   "metadata": {},
   "outputs": [
    {
     "name": "stdout",
     "output_type": "stream",
     "text": [
      "Password aAaAaAaaa is NOT the list.\n"
     ]
    }
   ],
   "source": [
    "if haslo2 in passwords:\n",
    "    print(f'Password {haslo2} is on the list, position #{passwords.index(haslo2)+1}.')\n",
    "else:\n",
    "    print(f'Password {haslo2} is NOT the list.') "
   ]
  },
  {
   "cell_type": "markdown",
   "id": "e77be3b0",
   "metadata": {},
   "source": [
    "Let `x` be the number of points obtained. The standard grading scale is as follows:\n",
    "<br> x >= 90 -- 5.0\n",
    "<br> 90 > x >= 80 -- 4.5\n",
    "<br> 80 > x >= 70 -- 4.0\n",
    "<br> 70 > x >= 60 -- 3.5\n",
    "<br> 60 > x >= 50 -- 3.0\n",
    "<br> x < 50 -- 2.0\n",
    "<br> The `points` variable contains the number of points obtained by the student. Write a conditional statement that displays the student's grade based on the number of points."
   ]
  },
  {
   "cell_type": "code",
   "execution_count": 174,
   "id": "cc814044",
   "metadata": {},
   "outputs": [],
   "source": [
    "points = 85"
   ]
  },
  {
   "cell_type": "code",
   "execution_count": 175,
   "id": "37aaf4fc",
   "metadata": {},
   "outputs": [],
   "source": [
    "grades = {\n",
    "        range(0, 50) : '2.0',\n",
    "        range(50, 60) : '3.0',\n",
    "        range(60, 70) : '3.5',\n",
    "        range(70, 80) : '4.0',\n",
    "        range(80, 90) : '4.5',\n",
    "        range(90, 100) : '5.0'\n",
    "          }"
   ]
  },
  {
   "cell_type": "code",
   "execution_count": 178,
   "id": "7e7cc3ca",
   "metadata": {},
   "outputs": [
    {
     "name": "stdout",
     "output_type": "stream",
     "text": [
      "You got 4.5.\n"
     ]
    }
   ],
   "source": [
    "for key in grades:\n",
    "    if points in key:\n",
    "        print(f'You got {grades[key]}.')"
   ]
  },
  {
   "cell_type": "markdown",
   "id": "f012f494",
   "metadata": {},
   "source": [
    "<b> FOR </b>"
   ]
  },
  {
   "cell_type": "markdown",
   "id": "69f022f1",
   "metadata": {},
   "source": [
    "List `l` containts 2 elements (lists). Create new list (`l_flat`) which contains each element from those two lists."
   ]
  },
  {
   "cell_type": "code",
   "execution_count": 98,
   "id": "a8810fe4",
   "metadata": {
    "scrolled": true
   },
   "outputs": [],
   "source": [
    "l = [[9, 8, 12, 7], [12, 33, 8, 7]]"
   ]
  },
  {
   "cell_type": "code",
   "execution_count": 61,
   "id": "898fc64c",
   "metadata": {},
   "outputs": [
    {
     "name": "stdout",
     "output_type": "stream",
     "text": [
      "[9, 8, 12, 7, 12, 33, 8, 7]\n"
     ]
    }
   ],
   "source": [
    "l_flat2 = [x for y in l for x in y]\n",
    "print(l_flat2)"
   ]
  },
  {
   "cell_type": "markdown",
   "id": "cbddabae",
   "metadata": {},
   "source": [
    "The iris_setosa list contains information about 4 specimens of the bristle iris (...)\n",
    "<br>\n",
    "1) Calculate the average flower width using FOR."
   ]
  },
  {
   "cell_type": "code",
   "execution_count": 10,
   "id": "25c7839c",
   "metadata": {},
   "outputs": [
    {
     "name": "stdout",
     "output_type": "stream",
     "text": [
      "Średnia wielkość kwiata: 17.1625.\n"
     ]
    }
   ],
   "source": [
    "wlk = 0\n",
    "\n",
    "for n, flower in enumerate(iris_setosa):\n",
    "    wlk += (flower[0] * flower[1])\n",
    "sr_wlk_kwiata2 = wlk / (n+1)\n",
    "print(f\"Średnia wielkość kwiata: {sr_wlk_kwiata2}.\")"
   ]
  },
  {
   "cell_type": "markdown",
   "id": "dff3d9ac",
   "metadata": {},
   "source": [
    "Create 2 new lists based on <b>l</b>: <b>even</b> with even numbers from l and <b>odd</b> with odd numbers."
   ]
  },
  {
   "cell_type": "code",
   "execution_count": 56,
   "id": "402ac3a6",
   "metadata": {},
   "outputs": [],
   "source": [
    "l = [4, 5, 8, 9, 0, 3]\n",
    "even = []\n",
    "odd = []"
   ]
  },
  {
   "cell_type": "code",
   "execution_count": 57,
   "id": "d0a3bfca",
   "metadata": {},
   "outputs": [
    {
     "name": "stdout",
     "output_type": "stream",
     "text": [
      "[4, 8, 0]\n",
      "[5, 9, 3]\n"
     ]
    }
   ],
   "source": [
    "for x in l:\n",
    "    if x%2 == 0:\n",
    "        even.append(x)\n",
    "    else:\n",
    "        odd.append(x)\n",
    "print(even)\n",
    "print(odd)"
   ]
  },
  {
   "cell_type": "markdown",
   "id": "f13e563f",
   "metadata": {},
   "source": [
    "Display sum of numbers from 1 to 256."
   ]
  },
  {
   "cell_type": "code",
   "execution_count": 72,
   "id": "885cba56",
   "metadata": {},
   "outputs": [
    {
     "name": "stdout",
     "output_type": "stream",
     "text": [
      "32640\n"
     ]
    }
   ],
   "source": [
    "x_sum = 0\n",
    "\n",
    "for x in range(1,256):\n",
    "    x_sum += x\n",
    "\n",
    "print(x_sum)"
   ]
  },
  {
   "cell_type": "code",
   "execution_count": 75,
   "id": "e56d43ca",
   "metadata": {},
   "outputs": [
    {
     "name": "stdout",
     "output_type": "stream",
     "text": [
      "32640\n"
     ]
    }
   ],
   "source": [
    "# Shorter version:\n",
    "x_sum1 = sum([x for x in range(1,256)])\n",
    "print(x_sum1)"
   ]
  },
  {
   "cell_type": "markdown",
   "id": "12b67e61",
   "metadata": {},
   "source": [
    "Display sum of even numbers from 1 to 256."
   ]
  },
  {
   "cell_type": "code",
   "execution_count": 76,
   "id": "26a6da3d",
   "metadata": {
    "scrolled": true
   },
   "outputs": [
    {
     "name": "stdout",
     "output_type": "stream",
     "text": [
      "16256\n"
     ]
    }
   ],
   "source": [
    "x_sum = 0\n",
    "\n",
    "for x in range(1,256):\n",
    "    if x%2 == 0:\n",
    "        x_sum += x\n",
    "\n",
    "print(x_sum)"
   ]
  },
  {
   "cell_type": "code",
   "execution_count": 77,
   "id": "9a85a416",
   "metadata": {
    "scrolled": true
   },
   "outputs": [
    {
     "name": "stdout",
     "output_type": "stream",
     "text": [
      "16256\n"
     ]
    }
   ],
   "source": [
    "# Shorter version:\n",
    "x_sum1 = sum([x for x in range(1,256) if x%2 == 0])\n",
    "print(x_sum1)"
   ]
  },
  {
   "cell_type": "markdown",
   "id": "afeee90a",
   "metadata": {},
   "source": [
    "The `ratings` dictionary contains the ratings of several kids. The keys are the children's names, and the values are their grades. Complete the dictionary `distribution` with scores as keys and lists as values."
   ]
  },
  {
   "cell_type": "code",
   "execution_count": 209,
   "id": "76757f72",
   "metadata": {},
   "outputs": [],
   "source": [
    "grades = {\n",
    "    'Albert': 4.5,\n",
    "    'Beata': 5,\n",
    "    'Cecylia': 4,\n",
    "    'Dariusz': 4,\n",
    "    'Eliza': 3,\n",
    "    'Feliks': 5,\n",
    "    'Grzegorz': 4.5,\n",
    "    'Izabela': 4.5\n",
    "    }\n",
    "\n",
    "distribution = {\n",
    "    5: [],\n",
    "    4.5: [],\n",
    "    4: [],\n",
    "    3: []\n",
    "    }"
   ]
  },
  {
   "cell_type": "code",
   "execution_count": 211,
   "id": "dd7607b2",
   "metadata": {},
   "outputs": [
    {
     "name": "stdout",
     "output_type": "stream",
     "text": [
      "{5: ['Beata', 'Feliks'], 4.5: ['Albert', 'Grzegorz', 'Izabela'], 4: ['Cecylia', 'Dariusz'], 3: ['Eliza']}\n"
     ]
    }
   ],
   "source": [
    "for child, grade in grades.items():\n",
    "    distribution[grade].append(child)\n",
    "print(distribution)"
   ]
  },
  {
   "cell_type": "markdown",
   "id": "caee477f",
   "metadata": {},
   "source": [
    "Below are 2 dictionaries with data on the number of city bike rides in Montreal in 2018, broken down by month.\n",
    "The first dictionary contains information about trips made by subscription holders and the second by people who don't have a subscription. Data comes from https://montreal.bixi.com/en/open-data.\n",
    "<br> 1) Create a third dictionary `all_rides` where you count the total number of rides in each month.\n",
    "<br> 2) Using the `months` list, display how many trips were made in a given month. Assume there are 0 trips\n",
    "in months that are missing from `all_rides`.\n",
    "<br> 3) Calculate the percentage of occasional trips during the year.\n",
    "<br> 4) Calculate the sum of recorded trips from April to November.\n",
    "<br> 5) Do both groups have the highest number of trips in the same month? Try to find the answer without looking\n",
    "to the values in the given dictionaries."
   ]
  },
  {
   "cell_type": "code",
   "execution_count": 246,
   "id": "44099b55",
   "metadata": {},
   "outputs": [],
   "source": [
    "members = {'April': 211819, 'May': 682758, 'June': 737011, 'July': 779511, 'August': 673790,\n",
    "           'September': 673790, 'October': 444177, 'November': 136791}\n",
    "\n",
    "occasionals = {'April': 32058, 'May': 147898, 'June': 171494, 'July': 194316, 'August': 206809,\n",
    "               'September': 140492, 'October': 53596, 'November': 10516}\n",
    "\n",
    "months = ['January', 'February', 'March', 'April', 'May', 'June', 'July',\n",
    "          'August', 'September', 'October', 'November', 'December']"
   ]
  },
  {
   "cell_type": "code",
   "execution_count": 311,
   "id": "23ceaa13",
   "metadata": {},
   "outputs": [
    {
     "name": "stdout",
     "output_type": "stream",
     "text": [
      "{'April': 243877, 'May': 830656, 'June': 908505, 'July': 973827, 'August': 880599, 'September': 814282, 'October': 497773, 'November': 147307}\n",
      "{'April': 243877, 'May': 830656, 'June': 908505, 'July': 973827, 'August': 880599, 'September': 814282, 'October': 497773, 'November': 147307}\n"
     ]
    }
   ],
   "source": [
    "#1\n",
    "all_rides = {}\n",
    "\n",
    "# That one will work only if there are EXACTLY the same keys in `members` and `occasionals`.\n",
    "for month, rides in members.items():\n",
    "    all_rides[month] = rides + occasionals[month]\n",
    "print(all_rides)\n",
    "\n",
    "\n",
    "# That one will work no matter what keys are in both dictionaries (as long as they exist in `months` list): \n",
    "all_rides1 = {}\n",
    "\n",
    "for month in months:\n",
    "   \n",
    "    if month in members.keys() and month in occasionals.keys():\n",
    "        all_rides1[month] = members[month] + occasionals[month]\n",
    "    \n",
    "    if month in members.keys() and month not in occasionals.keys():\n",
    "        all_rides1[month] = members[month]\n",
    "    \n",
    "    if month not in members.keys() and month in occasionals.keys():\n",
    "        all_rides1[month] = occasionals[month]\n",
    "    \n",
    "    else:\n",
    "        pass\n",
    "\n",
    "print(all_rides1)"
   ]
  },
  {
   "cell_type": "code",
   "execution_count": 328,
   "id": "b1c92ccb",
   "metadata": {
    "scrolled": false
   },
   "outputs": [
    {
     "name": "stdout",
     "output_type": "stream",
     "text": [
      "{'January': 0, 'February': 0, 'March': 0, 'April': 243877, 'May': 830656, 'June': 908505, 'July': 973827, 'August': 880599, 'September': 814282, 'October': 497773, 'November': 147307, 'December': 0}\n",
      "{'January': 0, 'February': 0, 'March': 0, 'April': 243877, 'May': 830656, 'June': 908505, 'July': 973827, 'August': 880599, 'September': 814282, 'October': 497773, 'November': 147307, 'December': 0}\n"
     ]
    }
   ],
   "source": [
    "#2 To display 0 for months with no rides, we need to create empty dictionary (0 rides in EACH month)\n",
    "all_rides_full = {month:0 for month in months}\n",
    "\n",
    "for month, rides in all_rides_full.items():\n",
    "    \n",
    "    if month in members.keys() and month in occasionals.keys():\n",
    "        all_rides_full[month] += (members[month] + occasionals[month])\n",
    "   \n",
    "    if month in members.keys() and month not in occasionals.keys():\n",
    "        all_rides_full[month] += members[month]\n",
    "   \n",
    "    if month not in members.keys() and month in occasionals.keys():\n",
    "        all_rides_full[month] += occasionals[month]\n",
    "    \n",
    "    else:\n",
    "        pass\n",
    "\n",
    "print(all_rides_full)\n",
    "\n",
    "\n",
    "# If we are certain, that there are exactly the same values in 'members' and 'occasionals':\n",
    "all_rides_full = {month:0 for month in months}\n",
    "\n",
    "for month, rides in all_rides_full.items():\n",
    "    \n",
    "    if month in members.keys():\n",
    "        all_rides_full[month] += (members[month] + occasionals[month])\n",
    "\n",
    "    else:\n",
    "        pass\n",
    "\n",
    "print(all_rides_full)\n"
   ]
  },
  {
   "cell_type": "code",
   "execution_count": 249,
   "id": "4f4453c6",
   "metadata": {},
   "outputs": [
    {
     "name": "stdout",
     "output_type": "stream",
     "text": [
      "18.07 %.\n"
     ]
    }
   ],
   "source": [
    "#3\n",
    "sum_rides_members = 0\n",
    "sum_rides_occasionals = 0\n",
    "\n",
    "for month, rides in members.items():\n",
    "    sum_rides_members += rides\n",
    "\n",
    "for month, rides in occasionals.items():\n",
    "    sum_rides_occasionals += rides\n",
    "\n",
    "ratio = sum_rides_occasionals/(sum_rides_members+sum_rides_occasionals)\n",
    "\n",
    "print(f'{round(ratio*100,2)} %.')"
   ]
  },
  {
   "cell_type": "code",
   "execution_count": null,
   "id": "1729aa9a",
   "metadata": {},
   "outputs": [],
   "source": [
    "#4\n",
    "sum_rides_members = 0\n",
    "sum_rides_occasionals = 0\n",
    "\n",
    "for month, rides in members.items():\n",
    "    if month in ('April', 'May', 'June', 'July', 'August', 'September', 'October', 'November'):\n",
    "        sum_rides_members += rides\n",
    "\n",
    "for month, rides in occasionals.items():\n",
    "    if month in ('April', 'May', 'June', 'July', 'August', 'September', 'October', 'November'):\n",
    "        sum_rides_occasionals += rides\n",
    "\n",
    "print(sum_rides_members)\n",
    "print(sum_rides_occasionals)\n",
    "print(sum_rides_members+sum_rides_occasionals)"
   ]
  },
  {
   "cell_type": "code",
   "execution_count": 262,
   "id": "6b17bd03",
   "metadata": {},
   "outputs": [
    {
     "name": "stdout",
     "output_type": "stream",
     "text": [
      "Month with highest number of rides (members): July.\n",
      "Month with highest number of rides (occasionals): August.\n"
     ]
    }
   ],
   "source": [
    "#5\n",
    "max_members = 0\n",
    "max_occasionals = 0\n",
    "\n",
    "for month, rides in members.items():\n",
    "    if rides > max_members:\n",
    "        max_members = rides\n",
    "month_members = list(members.keys())[list(members.values()).index(max_members)]\n",
    "\n",
    "for month, rides in occasionals.items():\n",
    "    if rides > max_occasionals:\n",
    "        max_occasionals = rides\n",
    "month_occasionals = list(occasionals.keys())[list(occasionals.values()).index(max_occasionals)]\n",
    "\n",
    "print(f'Month with highest number of rides (members): {month_members}.')\n",
    "print(f'Month with highest number of rides (occasionals): {month_occasionals}.')"
   ]
  },
  {
   "cell_type": "code",
   "execution_count": null,
   "id": "0c6ddb76",
   "metadata": {},
   "outputs": [],
   "source": []
  }
 ],
 "metadata": {
  "kernelspec": {
   "display_name": "Python 3 (ipykernel)",
   "language": "python",
   "name": "python3"
  },
  "language_info": {
   "codemirror_mode": {
    "name": "ipython",
    "version": 3
   },
   "file_extension": ".py",
   "mimetype": "text/x-python",
   "name": "python",
   "nbconvert_exporter": "python",
   "pygments_lexer": "ipython3",
   "version": "3.9.13"
  }
 },
 "nbformat": 4,
 "nbformat_minor": 5
}
